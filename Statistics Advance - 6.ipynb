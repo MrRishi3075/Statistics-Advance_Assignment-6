{
 "cells": [
  {
   "cell_type": "markdown",
   "id": "54f1f2e1-a8f0-4ee7-880a-2420509a8c1b",
   "metadata": {},
   "source": [
    "### Q1. Explain the assumptions required to use ANOVA and provide examples of violations that could impact the validity of the results.\n"
   ]
  },
  {
   "cell_type": "markdown",
   "id": "a032c69d-0b1b-4658-92d3-7542690356e7",
   "metadata": {},
   "source": [
    "* Assumptions of ANOVA include:\n",
    "\n",
    "#### Normality: \n",
    "* The dependent variable should be approximately normally distributed within each group.\n",
    "#### Homogeneity of Variances: \n",
    "* Variances of the groups should be equal.\n",
    "#### Independence:\n",
    "* Observations within and between groups should be independent.\n",
    "\n",
    "* Violations can impact results:\n",
    "\n",
    "#####  If normality is violated, consider transformations or use non-parametric tests.\n",
    "##### Violation of homogeneity of variances can lead to inaccurate F-statistics; Welch's ANOVA can be an alternative.\n",
    "##### Independence violations may occur in repeated measures ANOVA; correct with appropriate modeling or analysis."
   ]
  },
  {
   "cell_type": "markdown",
   "id": "1b6769f8-8e0b-4b0b-a30c-def9b6715382",
   "metadata": {},
   "source": [
    "\n",
    "### Q2. What are the three types of ANOVA, and in what situations would each be used?"
   ]
  },
  {
   "cell_type": "markdown",
   "id": "8dd59b8d-bb60-4a10-8ee5-b6ce0b2cf428",
   "metadata": {},
   "source": [
    "1. One-Way ANOVA:\n",
    "\n",
    "* Use Case: When comparing means of three or more independent groups.\n",
    "\n",
    "* Example: Comparing the average test scores of students from three different teaching methods (Method A, Method B, Method C).\n",
    "\n",
    "2. Two-Way ANOVA:\n",
    "\n",
    "* Use Case: Examines the influence of two different categorical independent variables on one dependent variable.\n",
    "* Example: Analyzing the effect of both software programs (A, B, C) and employee experience level (Novice, Experienced) on the time it takes to complete a task.\n",
    "\n",
    "3. Repeated Measures ANOVA:\n",
    "\n",
    "* Use Case: Applied when measuring the same subjects at multiple time points or under different conditions.\n",
    "* Example: Assessing whether there are significant differences in daily sales for three retail stores (Store A, Store B, Store C) over 30 days.\n",
    "\n",
    "#### Key Points:\n",
    "\n",
    "* One-Way ANOVA is suitable for comparing multiple groups on a single factor.\n",
    "* Two-Way ANOVA is used when there are two independent variables influencing the dependent variable.\n",
    "* Repeated Measures ANOVA is employed when the same subjects are measured multiple times or under different conditions.\n",
    "\n",
    "##### Understanding the specific design of your study and the nature of your data helps in choosing the appropriate type of ANOVA for analysis. Each type addresses different experimental designs and provides insights into the relationships between variables."
   ]
  },
  {
   "cell_type": "markdown",
   "id": "5fed817c-6a7b-473d-bbcb-a1a9843c1b6a",
   "metadata": {},
   "source": [
    "\n",
    "### Q3. What is the partitioning of variance in ANOVA, and why is it important to understand this concept?"
   ]
  },
  {
   "cell_type": "markdown",
   "id": "84a55d14-702a-499f-be48-5a4b8076ea2d",
   "metadata": {},
   "source": [
    "#### The partitioning of variance in ANOVA involves breaking down the total variability in the data into different sources to assess the contributions of various factors. There are three key components:\n",
    "\n",
    "1. Total Sum of Squares (SST):\n",
    "\n",
    "* SST represents the total variability in the dependent variable (DV).\n",
    "* It is calculated as the sum of the squared differences between each observation and the overall mean of the DV.\n",
    "* Mathematically, SST = Σ(yᵢ - ȳ)², where yᵢ is each individual observation, and ȳ is the overall mean.\n",
    "\n",
    "2. Explained Sum of Squares (SSE):\n",
    "\n",
    "* SSE, also known as Regression Sum of Squares, accounts for the variability explained by the independent variable(s) in the model.\n",
    "* In the context of ANOVA, SSE is the sum of the squared differences between the group means and the overall mean of the DV, weighted by the number of observations in each group.\n",
    "* Mathematically, SSE = Σ(nᵢ * (ȳᵢ - ȳ)²), where nᵢ is the number of observations in group i, ȳᵢ is the mean of group i, and ȳ is the overall mean.\n",
    "\n",
    "3. Residual Sum of Squares (SSR):\n",
    "\n",
    "* SSR, also known as Error Sum of Squares, represents the unexplained variability or random error in the model.\n",
    "* It is calculated as the sum of the squared differences between each individual observation and its group mean.\n",
    "* Mathematically, SSR = Σ(yᵢ - ȳᵢ)², where ȳᵢ is the mean of the group to which observation yᵢ belongs.\n",
    "\n",
    "#### Understanding the partitioning of variance is crucial because it allows researchers to assess the proportion of total variability that is accounted for by the independent variable(s) and how much is due to random error. The ratio of the explained variance (SSE) to the total variance (SST) is used to calculate the F-statistic, which is then used to assess the significance of the model.\n",
    "\n",
    "#### In summary, a significant F-statistic suggests that the independent variable(s) have a statistically significant effect on the dependent variable. This understanding helps researchers draw meaningful conclusions about the relationships between variables and the overall fit of the model."
   ]
  },
  {
   "cell_type": "markdown",
   "id": "e4620746-609e-415b-bc60-9090c8bde2d4",
   "metadata": {},
   "source": [
    "\n",
    "### Q4. How would you calculate the total sum of squares (SST), explained sum of squares (SSE), and residual sum of squares (SSR) in a one-way ANOVA using Python?"
   ]
  },
  {
   "cell_type": "code",
   "execution_count": 1,
   "id": "92978d23-8121-4ab0-95cd-704a311abe28",
   "metadata": {},
   "outputs": [
    {
     "name": "stdout",
     "output_type": "stream",
     "text": [
      "SST: 93.33333333333334\n",
      "SSE: 30.0\n",
      "SSR: 63.33333333333334\n",
      "F-statistic: 12.666666666666668\n",
      "p-value: 0.001102825675446617\n"
     ]
    }
   ],
   "source": [
    "import scipy.stats as stats\n",
    "import numpy as np\n",
    "\n",
    "# Example data for three groups\n",
    "group1 = np.array([5, 8, 7, 4, 6])\n",
    "group2 = np.array([9, 6, 10, 8, 7])\n",
    "group3 = np.array([4, 2, 5, 1, 3])\n",
    "\n",
    "# Combine the data into a single array\n",
    "all_data = np.concatenate([group1, group2, group3])\n",
    "\n",
    "# Calculate mean of all data\n",
    "grand_mean = np.mean(all_data)\n",
    "\n",
    "# Calculate SST\n",
    "sst = np.sum((all_data - grand_mean)**2)\n",
    "\n",
    "# Calculate SSE\n",
    "sse = np.sum((group1 - np.mean(group1))**2) + np.sum((group2 - np.mean(group2))**2) + np.sum((group3 - np.mean(group3))**2)\n",
    "\n",
    "# Calculate SSR\n",
    "ssr = sst - sse\n",
    "\n",
    "# Degrees of freedom for each component can also be calculated\n",
    "\n",
    "# F-statistic\n",
    "f_statistic = (ssr / (3 - 1)) / (sse / (len(all_data) - 3))\n",
    "\n",
    "# p-value\n",
    "p_value = 1 - stats.f.cdf(f_statistic, 3 - 1, len(all_data) - 3)\n",
    "\n",
    "print(\"SST:\", sst)\n",
    "print(\"SSE:\", sse)\n",
    "print(\"SSR:\", ssr)\n",
    "print(\"F-statistic:\", f_statistic)\n",
    "print(\"p-value:\", p_value)\n"
   ]
  },
  {
   "cell_type": "markdown",
   "id": "6e22c7af-8ef9-455e-87ad-5006a8e38288",
   "metadata": {},
   "source": [
    "\n",
    "### Q5. In a two-way ANOVA, how would you calculate the main effects and interaction effects using Python?"
   ]
  },
  {
   "cell_type": "code",
   "execution_count": null,
   "id": "ef92d8ea-b293-4ba6-ae66-51f6315cebd6",
   "metadata": {},
   "outputs": [],
   "source": [
    "import statsmodels.api as sm\n",
    "from statsmodels.formula.api import ols\n",
    "import pandas as pd\n",
    "import numpy as np\n",
    "\n",
    "# Example data with NaN values\n",
    "data = pd.DataFrame({\n",
    "    'Software': ['A', 'A', 'B', 'B', 'C', 'C'],\n",
    "    'Experience': ['Novice', 'Experienced', 'Novice', 'Experienced', 'Novice', 'Experienced'],\n",
    "    'Time': [10, 12, 14, 16, 14, 18, 20]})\n",
    "\n",
    "# Fit the two-way ANOVA model\n",
    "model = ols('Time ~ Software + Experience + Software:Experience', data=data).fit()\n",
    "\n",
    "# Get ANOVA table\n",
    "anova_table = sm.stats.anova_lm(model, typ=2)\n",
    "\n",
    "# Extract main effects and interaction effect\n",
    "main_effects = anova_table['sum_sq'][:2]\n",
    "interaction_effect = anova_table['sum_sq'][2]\n",
    "\n",
    "print(\"Main Effects:\", main_effects)\n",
    "print(\"Interaction Effect:\", interaction_effect)\n",
    "\n",
    "\n",
    "\n",
    "I Can Not Understand This Question Please If Possible Give Me Reply ."
   ]
  },
  {
   "cell_type": "markdown",
   "id": "41414dd8-4167-44ea-a2a9-247aa0257454",
   "metadata": {},
   "source": [
    "\n",
    "### Q6. Suppose you conducted a one-way ANOVA and obtained an F-statistic of 5.23 and a p-value of 0.02. What can you conclude about the differences between the groups, and how would you interpret these results?"
   ]
  },
  {
   "cell_type": "markdown",
   "id": "66aacfe4-859b-446f-a6a2-136d1d95a68a",
   "metadata": {},
   "source": [
    "* The obtained F-statistic of 5.23 and a p-value of 0.02 suggest that there are significant differences between at least two groups in the dataset. Here's a step-by-step interpretation:\n",
    "\n",
    "1. Null Hypothesis (H0): The null hypothesis assumes that there are no significant differences between the group means.\n",
    "\n",
    "2. Alternative Hypothesis (H1): The alternative hypothesis suggests that there are significant differences between at least two group means.\n",
    "\n",
    "3. Interpretation of the p-value: The p-value (0.02) is less than the commonly chosen significance level of 0.05. This indicates that the observed F-statistic is statistically significant at the 0.05 level.\n",
    "\n",
    "4. Decision: With a low p-value, you reject the null hypothesis.\n",
    "\n",
    "5. Conclusion: Therefore, you conclude that there are significant differences between the group means in the dataset.\n",
    "\n",
    "6. Further Analysis: While the ANOVA indicates that there are differences, it doesn't specify which groups are different. If you have multiple groups, you might want to conduct post-hoc tests (e.g., Tukey's HSD) to identify which specific groups differ significantly from each other.\n",
    "\n",
    "#### In summary, based on the provided F-statistic and p-value, you have evidence to reject the null hypothesis and can confidently state that there are significant differences in the means of the groups under investigation. The next step would be to explore post-hoc analyses to identify the specific groups responsible for the observed differences."
   ]
  },
  {
   "cell_type": "markdown",
   "id": "1ac21c33-9095-4574-ba6b-0586fd550621",
   "metadata": {},
   "source": [
    "\n",
    "### Q7. In a repeated measures ANOVA, how would you handle missing data, and what are the potential consequences of using different methods to handle missing data?"
   ]
  },
  {
   "cell_type": "markdown",
   "id": "def9f16b-aed7-4de6-b28b-32e261974918",
   "metadata": {},
   "source": [
    "#### Handling missing data in a repeated measures ANOVA requires careful consideration, as different methods can lead to varied results. Here's how you might handle missing data and the potential consequences:\n",
    "\n",
    "#### Handling Missing Data:\n",
    "\n",
    "1. Complete Case Analysis (CCA): Exclude cases with missing data. This is straightforward but may lead to biased results if missingness is related to the outcome.\n",
    "\n",
    "2. Mean Imputation: Replace missing values with the mean of the observed values for that variable. While simple, it can underestimate variability and distort relationships.\n",
    "\n",
    "3. Interpolation: Predict missing values based on observed values using linear interpolation or other methods. This assumes a certain pattern of change and may introduce bias.\n",
    "\n",
    "4. Multiple Imputation: Generate multiple datasets with imputed values, considering the uncertainty of missing data. Analyze each dataset separately and combine results. This accounts for variability due to imputation.\n",
    "\n",
    "#### Potential Consequences:\n",
    "\n",
    "1. Bias: Complete Case Analysis may introduce bias if missingness is not random. Mean imputation tends to underestimate variability, leading to biased standard errors.\n",
    "\n",
    "2. Loss of Power: Deleting cases with missing data reduces sample size, reducing statistical power and making it harder to detect true effects.\n",
    "\n",
    "3. Invalid Inferences: Using inappropriate imputation methods may lead to invalid inferences. For example, assuming missing data follow a certain pattern when they don't can introduce bias.\n",
    "\n",
    "4. False Precision: Mean imputation can make results seem more precise than they are, as it doesn't account for uncertainty in imputed values.\n",
    "\n",
    "5. Model Misspecification: Imputing missing values without considering the structure of the data may lead to misspecification of the model.\n",
    "\n",
    "#### Best Practices:\n",
    "\n",
    "* Choose the method based on the nature of missingness and the assumptions you are willing to make.\n",
    "* Consider using multiple imputation for a more robust analysis.\n",
    "* Clearly document the method used and any assumptions made.\n",
    "* Perform sensitivity analyses to assess the impact of missing data handling on results.\n",
    "\n",
    "##### In summary, the choice of how to handle missing data in repeated measures ANOVA should be made carefully, considering the potential biases and impact on the validity of results. Multiple imputation is often a preferred method when possible, but it requires careful consideration of the underlying assumptions."
   ]
  },
  {
   "cell_type": "markdown",
   "id": "7a9015fe-2d7a-419e-81c3-5b9a4b8ac44c",
   "metadata": {},
   "source": [
    "\n",
    "### Q8. What are some common post-hoc tests used after ANOVA, and when would you use each one? Provide an example of a situation where a post-hoc test might be necessary."
   ]
  },
  {
   "cell_type": "markdown",
   "id": "ae53b699-cf27-47d0-86bc-796b7915e4fc",
   "metadata": {},
   "source": [
    "#### 1.Tukey's Honestly Significant Difference (HSD):\n",
    "\n",
    "* When to use: Tukey's HSD is a conservative test suitable for all pairwise comparisons. It controls the familywise error rate, making it appropriate when there are many pairwise comparisons.\n",
    "* Example: After conducting a one-way ANOVA comparing the mean scores of students in three different teaching methods, Tukey's HSD can be used to identify which pairs of teaching methods have significantly different means.\n",
    "\n",
    "#### 2.Bonferroni Correction:\n",
    "\n",
    "* When to use: Bonferroni is a more conservative approach and is suitable when you have a small number of planned comparisons. It is effective in controlling the experimentwise error rate.\n",
    "* Example: In a study comparing the effectiveness of three drug treatments, if you have specific hypotheses about which pairs of drugs are expected to differ, you can use Bonferroni correction for these planned comparisons.\n",
    "\n",
    "#### 3.Scheffé's Test:\n",
    "\n",
    "* When to use: Scheffé's test is a liberal post-hoc test that is appropriate when there is no specific hypothesis about which group differences are expected. It is less conservative but more powerful in situations with many comparisons.\n",
    "* Example: If you are exploring the differences among multiple brands of a product without specific hypotheses, Scheffé's test can be used to compare all possible pairs.\n",
    "\n",
    "#### 4.Dunnett's Test:\n",
    "\n",
    "* When to use: Dunnett's test is suitable when you have a control group, and you want to compare all other groups to the control group.\n",
    "* Example: In a drug trial with a control group, Dunnett's test can be used to compare the experimental drug groups to the control group.\n",
    "\n",
    "#### Example Scenario:\n",
    "##### Suppose a researcher conducts a one-way ANOVA to compare the average scores of students exposed to different teaching methods (A, B, and C). The ANOVA reveals a significant difference among the groups. To determine which specific pairs of teaching methods have significantly different means, a post-hoc test like Tukey's HSD can be employed. Tukey's HSD will provide confidence intervals for all pairwise differences, allowing the researcher to identify where the significant differences lie."
   ]
  },
  {
   "cell_type": "markdown",
   "id": "381f7995-7944-47df-82a1-f87868682aef",
   "metadata": {},
   "source": [
    "\n",
    "### Q9. A researcher wants to compare the mean weight loss of three diets: A, B, and C. They collect data from 50 participants who were randomly assigned to one of the diets. Conduct a one-way ANOVA using Python to determine if there are any significant differences between the mean weight loss of the three diets. Report the F-statistic and p-value, and interpret the results."
   ]
  },
  {
   "cell_type": "code",
   "execution_count": 8,
   "id": "7e1e1c20-d35e-4790-bffb-21be38201b9e",
   "metadata": {},
   "outputs": [
    {
     "name": "stdout",
     "output_type": "stream",
     "text": [
      "F-statistic: 8.296296296296296\n",
      "p-value: 0.005464699170735793\n",
      "There are significant differences between the mean weight loss of the three diets.\n"
     ]
    }
   ],
   "source": [
    "import scipy.stats as stats\n",
    "\n",
    "# Example data\n",
    "diet_A = [2, 3, 4, 5, 3]\n",
    "diet_B = [1, 2, 3, 2, 1]\n",
    "diet_C = [4, 5, 3, 4, 5]\n",
    "\n",
    "# Perform one-way ANOVA\n",
    "f_statistic, p_value = stats.f_oneway(diet_A, diet_B, diet_C)\n",
    "\n",
    "print(\"F-statistic:\", f_statistic)\n",
    "print(\"p-value:\", p_value)\n",
    "\n",
    "# Interpretation\n",
    "if p_value < 0.05:\n",
    "    print(\"There are significant differences between the mean weight loss of the three diets.\")\n",
    "else:\n",
    "    print(\"There is no significant difference between the mean weight loss of the three diets.\")\n"
   ]
  },
  {
   "cell_type": "markdown",
   "id": "da628dd3-4ed6-43a7-a186-f43516649661",
   "metadata": {},
   "source": [
    "\n",
    "### Q10. A company wants to know if there are any significant differences in the average time it takes to complete a task using three different software programs: Program A, Program B, and Program C. They randomly assign 30 employees to one of the programs and record the time it takes each employee to complete the task. Conduct a two-way ANOVA using Python to determine if there are any main effects or interaction effects between the software programs and employee experience level (novice vs. experienced). Report the F-statistics and p-values, and interpret the results."
   ]
  },
  {
   "cell_type": "code",
   "execution_count": 9,
   "id": "ce9a8b2c-3bad-4b0b-b453-b70d6e9fb6d0",
   "metadata": {},
   "outputs": [
    {
     "name": "stdout",
     "output_type": "stream",
     "text": [
      "                           sum_sq    df             F    PR(>F)\n",
      "Software             1.833732e-28   2.0  2.292165e-30  1.000000\n",
      "Experience           3.000000e+01   1.0  7.500000e-01  0.395052\n",
      "Software:Experience  1.248598e-28   2.0  1.560747e-30  1.000000\n",
      "Residual             9.600000e+02  24.0           NaN       NaN\n"
     ]
    }
   ],
   "source": [
    "import statsmodels.api as sm\n",
    "from statsmodels.formula.api import ols\n",
    "import pandas as pd\n",
    "\n",
    "# Example data\n",
    "data = pd.DataFrame({'Software': ['A', 'A', 'B', 'B', 'C', 'C'] * 5,\n",
    "                     'Experience': ['Novice', 'Experienced'] * 15,\n",
    "                     'Time': [10, 12, 14, 16, 18, 20, 22, 24, 26, 28] * 3})\n",
    "\n",
    "# Fit the two-way ANOVA model\n",
    "model = ols('Time ~ Software + Experience + Software:Experience', data=data).fit()\n",
    "\n",
    "# Get ANOVA table\n",
    "anova_table = sm.stats.anova_lm(model, typ=2)\n",
    "\n",
    "print(anova_table)\n"
   ]
  },
  {
   "cell_type": "markdown",
   "id": "a10bea16-1a0a-414d-b28c-c953ec4d4616",
   "metadata": {},
   "source": [
    "\n",
    "### Q11. An educational researcher is interested in whether a new teaching method improves student test scores. They randomly assign 100 students to either the control group (traditional teaching method) or the experimental group (new teaching method) and administer a test at the end of the semester. Conduct a two-sample t-test using Python to determine if there are any significant differences in test scores between the two groups. If the results are significant, follow up with a post-hoc test to determine which group(s) differ significantly from each other."
   ]
  },
  {
   "cell_type": "code",
   "execution_count": 10,
   "id": "bcb7fc4c-2261-4f6d-89c4-a848ba36e946",
   "metadata": {},
   "outputs": [
    {
     "name": "stdout",
     "output_type": "stream",
     "text": [
      "t-statistic: -6.108472217815261\n",
      "p-value: 0.0002867824180572091\n",
      "There are significant differences in test scores between the control and experimental groups.\n"
     ]
    }
   ],
   "source": [
    "import scipy.stats as stats\n",
    "\n",
    "# Example data\n",
    "control_group = [75, 78, 80, 82, 79]\n",
    "experimental_group = [85, 88, 92, 89, 90]\n",
    "\n",
    "# Perform two-sample t-test\n",
    "t_statistic, p_value = stats.ttest_ind(control_group, experimental_group)\n",
    "\n",
    "print(\"t-statistic:\", t_statistic)\n",
    "print(\"p-value:\", p_value)\n",
    "\n",
    "# Interpretation\n",
    "if p_value < 0.05:\n",
    "    print(\"There are significant differences in test scores between the control and experimental groups.\")\n",
    "    # Follow up with a post-hoc test if needed.\n",
    "else:\n",
    "    print(\"There is no significant difference in test scores between the control and experimental groups.\")\n"
   ]
  },
  {
   "cell_type": "markdown",
   "id": "656dbe2a-37b8-4fd2-9dec-f15bdb13c131",
   "metadata": {},
   "source": [
    "\n",
    "### Q12. A researcher wants to know if there are any significant differences in the average daily sales of three retail stores: Store A, Store B, and Store C. They randomly select 30 days and record the sales for each store on those days. Conduct a repeated measures ANOVA using Python to determine if there are any significant differences in sales between the three stores. If the results are significant, follow up with a post- hoc test to determine which store(s) differ significantly from each other."
   ]
  },
  {
   "cell_type": "code",
   "execution_count": 11,
   "id": "6095b842-59ca-48f8-b413-727ec443c6d2",
   "metadata": {},
   "outputs": [
    {
     "name": "stdout",
     "output_type": "stream",
     "text": [
      "                sum_sq    df         F    PR(>F)\n",
      "Store       302.768805   2.0  0.364011  0.695937\n",
      "Residual  36181.417285  87.0       NaN       NaN\n"
     ]
    }
   ],
   "source": [
    "import statsmodels.api as sm\n",
    "from statsmodels.formula.api import ols\n",
    "import pandas as pd\n",
    "\n",
    "# Example data\n",
    "data = pd.DataFrame({'Store': ['A', 'B', 'C'] * 30,\n",
    "                     'Sales': np.random.normal(loc=100, scale=20, size=90)})\n",
    "\n",
    "# Fit repeated measures ANOVA model\n",
    "model = ols('Sales ~ Store', data=data).fit()\n",
    "\n",
    "# Get ANOVA table\n",
    "anova_table = sm.stats.anova_lm(model, typ=2)\n",
    "\n",
    "print(anova_table)\n"
   ]
  }
 ],
 "metadata": {
  "kernelspec": {
   "display_name": "Python 3 (ipykernel)",
   "language": "python",
   "name": "python3"
  },
  "language_info": {
   "codemirror_mode": {
    "name": "ipython",
    "version": 3
   },
   "file_extension": ".py",
   "mimetype": "text/x-python",
   "name": "python",
   "nbconvert_exporter": "python",
   "pygments_lexer": "ipython3",
   "version": "3.10.8"
  }
 },
 "nbformat": 4,
 "nbformat_minor": 5
}
